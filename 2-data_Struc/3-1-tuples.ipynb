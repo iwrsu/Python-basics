{
 "cells": [
  {
   "cell_type": "code",
   "execution_count": null,
   "id": "800e3a23",
   "metadata": {},
   "outputs": [],
   "source": [
    "# similar to lists but  immutable\n",
    "# tuples are faster than lists\n",
    "# tuples use parentheses ()\n",
    "# tuples can be used as keys in dictionaries"
   ]
  },
  {
   "cell_type": "code",
   "execution_count": 1,
   "id": "cd14ca5e",
   "metadata": {},
   "outputs": [
    {
     "name": "stdout",
     "output_type": "stream",
     "text": [
      "()\n"
     ]
    }
   ],
   "source": [
    "empty_tuple=()\n",
    "print(empty_tuple)\n"
   ]
  },
  {
   "cell_type": "code",
   "execution_count": 2,
   "id": "e53167a0",
   "metadata": {},
   "outputs": [
    {
     "name": "stdout",
     "output_type": "stream",
     "text": [
      "<class 'list'>\n",
      "<class 'tuple'>\n"
     ]
    }
   ],
   "source": [
    "lst =list()\n",
    "print(type(lst))\n",
    "tpl=tuple()\n",
    "print(type(tpl))"
   ]
  },
  {
   "cell_type": "code",
   "execution_count": 3,
   "id": "987588d9",
   "metadata": {},
   "outputs": [
    {
     "data": {
      "text/plain": [
       "(1, 2, 3, 4, 5)"
      ]
     },
     "execution_count": 3,
     "metadata": {},
     "output_type": "execute_result"
    }
   ],
   "source": [
    "numbers = tuple([1,2,3,4,5])\n",
    "numbers"
   ]
  },
  {
   "cell_type": "code",
   "execution_count": 4,
   "id": "ed740b10",
   "metadata": {},
   "outputs": [
    {
     "data": {
      "text/plain": [
       "[1, 2, 3]"
      ]
     },
     "execution_count": 4,
     "metadata": {},
     "output_type": "execute_result"
    }
   ],
   "source": [
    "list((1,2,3))"
   ]
  },
  {
   "cell_type": "code",
   "execution_count": 6,
   "id": "5f0f4e58",
   "metadata": {},
   "outputs": [
    {
     "data": {
      "text/plain": [
       "(1, 'hello', 3.4)"
      ]
     },
     "execution_count": 6,
     "metadata": {},
     "output_type": "execute_result"
    }
   ],
   "source": [
    "mixed_tuple = (1, \"hello\", 3.4)\n",
    "mixed_tuple"
   ]
  },
  {
   "cell_type": "code",
   "execution_count": 7,
   "id": "f16f5620",
   "metadata": {},
   "outputs": [
    {
     "data": {
      "text/plain": [
       "(1, 2, 3, 4, 5, 1, 'hello', 3.4)"
      ]
     },
     "execution_count": 7,
     "metadata": {},
     "output_type": "execute_result"
    }
   ],
   "source": [
    "# tuple operations\n",
    "concat_tuple = numbers + mixed_tuple\n",
    "concat_tuple"
   ]
  },
  {
   "cell_type": "code",
   "execution_count": 8,
   "id": "7544147a",
   "metadata": {},
   "outputs": [
    {
     "data": {
      "text/plain": [
       "(1, 'hello', 3.4, 1, 'hello', 3.4, 1, 'hello', 3.4)"
      ]
     },
     "execution_count": 8,
     "metadata": {},
     "output_type": "execute_result"
    }
   ],
   "source": [
    "mixed_tuple*3"
   ]
  },
  {
   "cell_type": "code",
   "execution_count": 9,
   "id": "46b1f8ce",
   "metadata": {},
   "outputs": [
    {
     "name": "stdout",
     "output_type": "stream",
     "text": [
      "2\n",
      "6\n"
     ]
    }
   ],
   "source": [
    "# tuple methods\n",
    "print(concat_tuple.count(1))\n",
    "print(concat_tuple.index(\"hello\"))"
   ]
  },
  {
   "cell_type": "code",
   "execution_count": 11,
   "id": "d0906df0",
   "metadata": {},
   "outputs": [
    {
     "name": "stdout",
     "output_type": "stream",
     "text": [
      "(1, 'hello', 3.4)\n",
      "1\n",
      "hello\n",
      "3.4\n"
     ]
    }
   ],
   "source": [
    "#packing and unpacking tuples\n",
    "packed_tuple = 1, \"hello\", 3.4\n",
    "print(packed_tuple)\n",
    "# by default python packs values into a tuple if there are multiple values on the right side of assignment\n",
    "a, b, c = packed_tuple\n",
    "print(a)\n",
    "print(b)\n",
    "print(c)\n",
    "# unpacking requires the number of variables on the left to match the number of values in the tuple on the right"
   ]
  },
  {
   "cell_type": "code",
   "execution_count": 14,
   "id": "5b367d67",
   "metadata": {},
   "outputs": [
    {
     "name": "stdout",
     "output_type": "stream",
     "text": [
      "1\n",
      "[2, 3, 4, 5, 6, 7, 8]\n",
      "9\n"
     ]
    }
   ],
   "source": [
    "# unpack with asterisk\n",
    "numbers = (1,2,3,4,5,6,7,8,9)\n",
    "first, *middle, last = numbers\n",
    "print(first)\n",
    "print(middle)\n",
    "print(last)\n",
    "# middle is a list containing all the values except the first and last \n",
    "# you can use asterisk to pack multiple values into a single variable\n",
    "# you can only use asterisk once in an unpacking assignment\n"
   ]
  },
  {
   "cell_type": "code",
   "execution_count": 15,
   "id": "aecff650",
   "metadata": {},
   "outputs": [
    {
     "name": "stdout",
     "output_type": "stream",
     "text": [
      "1\n",
      "9\n"
     ]
    }
   ],
   "source": [
    "# you can use underscore _ as a variable name to ignore specific values during unpacking\n",
    "first, *_, last = numbers\n",
    "print(first)\n",
    "print(last)\n",
    "# _ is a common convention to indicate that the value is intentionally being ignored\n"
   ]
  },
  {
   "cell_type": "code",
   "execution_count": 16,
   "id": "bb0895ea",
   "metadata": {},
   "outputs": [
    {
     "name": "stdout",
     "output_type": "stream",
     "text": [
      "6\n"
     ]
    }
   ],
   "source": [
    "# you can use asterisk to unpack iterables into function arguments\n",
    "def my_function(a, b, c):\n",
    "    return a + b + c\n",
    "args = (1, 2, 3)\n",
    "result = my_function(*args)\n",
    "print(result)\n",
    "# this is useful when you have a tuple or list of arguments that you want to pass to a function without manually unpacking each value"
   ]
  },
  {
   "cell_type": "code",
   "execution_count": 17,
   "id": "3aa34b5a",
   "metadata": {},
   "outputs": [
    {
     "name": "stdout",
     "output_type": "stream",
     "text": [
      "(1, (2, 3), (4, (5, 6)))\n",
      "2\n",
      "6\n"
     ]
    }
   ],
   "source": [
    "# nested tuples\n",
    "nested_tuple = (1, (2, 3), (4, (5, 6)))\n",
    "print(nested_tuple)\n",
    "# you can access elements in nested tuples using multiple indexing\n",
    "print(nested_tuple[1][0])  # Output: 2\n",
    "print(nested_tuple[2][1][1])  # Output: 6"
   ]
  },
  {
   "cell_type": "code",
   "execution_count": 24,
   "id": "1f8e8f97",
   "metadata": {},
   "outputs": [
    {
     "name": "stdout",
     "output_type": "stream",
     "text": [
      "1\n",
      "2\n",
      "3\n",
      "4\n",
      "5\n",
      "6\n",
      "7\n",
      "8\n",
      "9\n"
     ]
    }
   ],
   "source": [
    "# Print all items in a nested tuple, handling both integers and tuples\n",
    "for sub_item in nested_tuple:\n",
    "    if isinstance(sub_item, tuple):\n",
    "        for item in sub_item:\n",
    "            if isinstance(item, tuple):\n",
    "                for subsub in item:\n",
    "                    print(subsub)\n",
    "            else:\n",
    "                print(item)\n",
    "    else:\n",
    "        print(sub_item,end=' ')\n",
    "        \n",
    "# isinstance checks if an object is of a specific type"
   ]
  },
  {
   "cell_type": "markdown",
   "id": "297eea2a",
   "metadata": {},
   "source": [
    "### Explanation: Printing All Items in a Nested Tuple\n",
    "This code prints every value inside a nested tuple, even if the tuple contains other tuples:\n",
    "- It loops through each element in `nested_tuple`.\n",
    "- If the element is a tuple, it loops through its items.\n",
    "    - If an item is also a tuple, it loops through and prints each value inside it.\n",
    "    - Otherwise, it prints the item directly.\n",
    "- If the element is not a tuple, it prints it directly.\n",
    "\n",
    "This approach works for nested tuples up to two levels deep, as in the example `(1, (2, 3), (4, (5, 6)))`."
   ]
  },
  {
   "cell_type": "code",
   "execution_count": 22,
   "id": "5fd1e698",
   "metadata": {},
   "outputs": [
    {
     "name": "stdout",
     "output_type": "stream",
     "text": [
      "1 2 3 \n",
      "4 5 6 \n",
      "7 8 9 \n"
     ]
    }
   ],
   "source": [
    "nested_tuple=((1,2,3),(4,5,6),(7,8,9))\n",
    "for sub_item in nested_tuple:\n",
    "    for item in sub_item:\n",
    "        print(item,end=\" \")\n",
    "    print(\"\")\n"
   ]
  },
  {
   "cell_type": "code",
   "execution_count": null,
   "id": "447c0546",
   "metadata": {},
   "outputs": [],
   "source": []
  }
 ],
 "metadata": {
  "kernelspec": {
   "display_name": "aiml",
   "language": "python",
   "name": "python3"
  },
  "language_info": {
   "codemirror_mode": {
    "name": "ipython",
    "version": 3
   },
   "file_extension": ".py",
   "mimetype": "text/x-python",
   "name": "python",
   "nbconvert_exporter": "python",
   "pygments_lexer": "ipython3",
   "version": "3.12.11"
  }
 },
 "nbformat": 4,
 "nbformat_minor": 5
}
