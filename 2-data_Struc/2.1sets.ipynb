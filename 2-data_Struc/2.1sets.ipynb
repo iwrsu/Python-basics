{
 "cells": [
  {
   "cell_type": "code",
   "execution_count": 1,
   "id": "48b0b593",
   "metadata": {},
   "outputs": [
    {
     "ename": "KeyError",
     "evalue": "6",
     "output_type": "error",
     "traceback": [
      "\u001b[31m---------------------------------------------------------------------------\u001b[39m",
      "\u001b[31mKeyError\u001b[39m                                  Traceback (most recent call last)",
      "\u001b[36mCell\u001b[39m\u001b[36m \u001b[39m\u001b[32mIn[1]\u001b[39m\u001b[32m, line 3\u001b[39m\n\u001b[32m      1\u001b[39m \u001b[38;5;66;03m## sets operations\u001b[39;00m\n\u001b[32m      2\u001b[39m my_set={\u001b[32m1\u001b[39m,\u001b[32m2\u001b[39m,\u001b[32m3\u001b[39m,\u001b[32m4\u001b[39m,\u001b[32m5\u001b[39m}\n\u001b[32m----> \u001b[39m\u001b[32m3\u001b[39m my_set.remove(\u001b[32m6\u001b[39m)\n",
      "\u001b[31mKeyError\u001b[39m: 6"
     ]
    }
   ],
   "source": [
    "## sets operations\n",
    "my_set={1,2,3,4,5}\n",
    "my_set.remove(6)"
   ]
  },
  {
   "cell_type": "code",
   "execution_count": null,
   "id": "c7cbb9ec",
   "metadata": {},
   "outputs": [],
   "source": [
    "## willgive error as 6 is not present in the set\n",
    "## but discard will not give error\n",
    "## it removes the element if present otherwise does nothing\n",
    "my_set.discard(6)"
   ]
  },
  {
   "cell_type": "code",
   "execution_count": 7,
   "id": "c928d589",
   "metadata": {},
   "outputs": [
    {
     "name": "stdout",
     "output_type": "stream",
     "text": [
      "{1, 2, 3, 4}\n",
      "{1, 2, 3, 4, 5}\n",
      "{1, 2, 3, 4}\n"
     ]
    }
   ],
   "source": [
    "set1 ={1, 2, 3, 4, 5}\n",
    "set2 ={1,2,3,4,7}\n",
    "\n",
    "int_set=set1.intersection(set2)\n",
    "print(int_set)\n",
    "print(set1)\n",
    "\n",
    "set1.intersection_update(set2)\n",
    "print(set1)\n",
    "\n",
    "# difference between intersection and intersection_update \n",
    "# is that intersection_update updates the original set"
   ]
  },
  {
   "cell_type": "code",
   "execution_count": 8,
   "id": "2b105eea",
   "metadata": {},
   "outputs": [
    {
     "data": {
      "text/plain": [
       "{7}"
      ]
     },
     "execution_count": 8,
     "metadata": {},
     "output_type": "execute_result"
    }
   ],
   "source": [
    "set1.symmetric_difference(set2)"
   ]
  },
  {
   "cell_type": "code",
   "execution_count": 9,
   "id": "dfbb5057",
   "metadata": {},
   "outputs": [
    {
     "name": "stdout",
     "output_type": "stream",
     "text": [
      "8\n",
      "{'this', 'we', 'disccusing', 'sets', 'are', 'tutorial', 'about', 'In'}\n"
     ]
    }
   ],
   "source": [
    "# counting unique words in text\n",
    "\n",
    "text = \"In this tutorial we are disccusing about sets\"\n",
    "words=text.split()\n",
    "\n",
    "# convert list of words to set to get unique words\n",
    "\n",
    "unique_words=set(words)\n",
    "print(len(unique_words))\n",
    "print(unique_words)"
   ]
  },
  {
   "cell_type": "code",
   "execution_count": null,
   "id": "fecc6d0b",
   "metadata": {},
   "outputs": [],
   "source": []
  }
 ],
 "metadata": {
  "kernelspec": {
   "display_name": "aiml",
   "language": "python",
   "name": "python3"
  },
  "language_info": {
   "codemirror_mode": {
    "name": "ipython",
    "version": 3
   },
   "file_extension": ".py",
   "mimetype": "text/x-python",
   "name": "python",
   "nbconvert_exporter": "python",
   "pygments_lexer": "ipython3",
   "version": "3.12.11"
  }
 },
 "nbformat": 4,
 "nbformat_minor": 5
}
