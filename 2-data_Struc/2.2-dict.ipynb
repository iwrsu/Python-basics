{
 "cells": [
  {
   "cell_type": "code",
   "execution_count": 2,
   "id": "18ae3348",
   "metadata": {},
   "outputs": [
    {
     "name": "stdout",
     "output_type": "stream",
     "text": [
      "<class 'dict'>\n"
     ]
    }
   ],
   "source": [
    "empt_dct={}\n",
    "print(type(empt_dct))"
   ]
  },
  {
   "cell_type": "code",
   "execution_count": 3,
   "id": "c2ad1007",
   "metadata": {},
   "outputs": [
    {
     "name": "stdout",
     "output_type": "stream",
     "text": [
      "<class 'dict'>\n"
     ]
    }
   ],
   "source": [
    "empt1 =dict()\n",
    "print(type(empt1))"
   ]
  },
  {
   "cell_type": "code",
   "execution_count": 4,
   "id": "a6c8947e",
   "metadata": {},
   "outputs": [
    {
     "name": "stdout",
     "output_type": "stream",
     "text": [
      "{'name': 'John', 'age': 25, 'grade': 24}\n",
      "<class 'dict'>\n"
     ]
    }
   ],
   "source": [
    "student={'name':'John','age':25,'grade':24}\n",
    "print(student)\n",
    "print(type(student))"
   ]
  },
  {
   "cell_type": "code",
   "execution_count": null,
   "id": "879b73a0",
   "metadata": {},
   "outputs": [
    {
     "name": "stdout",
     "output_type": "stream",
     "text": [
      "{'name': 'doe', 'age': 25, 'grade': 24}\n"
     ]
    }
   ],
   "source": [
    "student={'name':'John','age':25,'grade':24, 'name': \"doe\"}\n",
    "print(student)\n",
    "# single key is always unique "
   ]
  },
  {
   "cell_type": "code",
   "execution_count": 6,
   "id": "d9c2ada1",
   "metadata": {},
   "outputs": [
    {
     "name": "stdout",
     "output_type": "stream",
     "text": [
      "doe\n",
      "25\n"
     ]
    }
   ],
   "source": [
    "# accessing dictionary elements\n",
    "print(student['name'])\n",
    "print(student.get('age'))\n"
   ]
  },
  {
   "cell_type": "code",
   "execution_count": null,
   "id": "f5b78774",
   "metadata": {},
   "outputs": [
    {
     "name": "stdout",
     "output_type": "stream",
     "text": [
      "None\n",
      "Not Found\n"
     ]
    }
   ],
   "source": [
    "print(student.get('last_name')) # if key is not present it will return None\n",
    "print(student.get('last_name','Not Found')) # if key is not present it will return 'Not Found'"
   ]
  },
  {
   "cell_type": "code",
   "execution_count": null,
   "id": "d26ab537",
   "metadata": {},
   "outputs": [
    {
     "name": "stdout",
     "output_type": "stream",
     "text": [
      "{'name': 'doe', 'age': 24, 'grade': 24}\n",
      "{'name': 'doe', 'age': 24, 'grade': 24, 'last_name': 'smith'}\n"
     ]
    }
   ],
   "source": [
    "student[\"age\"]=24\n",
    "print(student)\n",
    "student[\"last_name\"]=\"smith\"\n",
    "print(student)\n",
    "# adding a new key-value pair or updating an existing key-value pair"
   ]
  },
  {
   "cell_type": "code",
   "execution_count": null,
   "id": "75ea23bf",
   "metadata": {},
   "outputs": [
    {
     "name": "stdout",
     "output_type": "stream",
     "text": [
      "{'name': 'doe', 'age': 24, 'last_name': 'smith'}\n"
     ]
    }
   ],
   "source": [
    "del student['grade']\n",
    "print(student)\n",
    "# deleting a key-value pair"
   ]
  },
  {
   "cell_type": "code",
   "execution_count": 10,
   "id": "958f1eac",
   "metadata": {},
   "outputs": [
    {
     "name": "stdout",
     "output_type": "stream",
     "text": [
      "dict_keys(['name', 'age', 'last_name'])\n",
      "dict_values(['doe', 24, 'smith'])\n",
      "dict_items([('name', 'doe'), ('age', 24), ('last_name', 'smith')])\n"
     ]
    }
   ],
   "source": [
    "# dictionary methods\n",
    "keys=student.keys()\n",
    "print(keys)\n",
    "values=student.values()\n",
    "print(values)\n",
    "items=student.items()\n",
    "print(items)"
   ]
  },
  {
   "cell_type": "code",
   "execution_count": 11,
   "id": "164cf3cc",
   "metadata": {},
   "outputs": [
    {
     "name": "stdout",
     "output_type": "stream",
     "text": [
      "{'name': 'doe', 'age': 24, 'last_name': 'smith'}\n",
      "{'name': 'doe', 'age': 24, 'last_name': 'smith'}\n"
     ]
    }
   ],
   "source": [
    "# shallow copy\n",
    "student_copy = student\n",
    "print(student_copy)\n",
    "print(student)"
   ]
  },
  {
   "cell_type": "code",
   "execution_count": null,
   "id": "36cb643d",
   "metadata": {},
   "outputs": [
    {
     "name": "stdout",
     "output_type": "stream",
     "text": [
      "{'name': 'Alice', 'age': 24, 'last_name': 'smith'}\n",
      "{'name': 'Alice', 'age': 24, 'last_name': 'smith'}\n"
     ]
    }
   ],
   "source": [
    "student[\"name\"]=\"Alice\"\n",
    "print(student)\n",
    "print(student_copy)\n",
    "# both are affected because both are pointing to the same memory location "
   ]
  },
  {
   "cell_type": "code",
   "execution_count": 14,
   "id": "bcdbd4ad",
   "metadata": {},
   "outputs": [
    {
     "name": "stdout",
     "output_type": "stream",
     "text": [
      "{'name': 'Bob', 'age': 24, 'last_name': 'smith'}\n",
      "{'name': 'Bob', 'age': 24, 'last_name': 'smith'}\n"
     ]
    }
   ],
   "source": [
    "student_copy1 = student.copy()\n",
    "student[\"name\"]=\"Bob\"\n",
    "print(student)\n",
    "print(student_copy1)\n",
    "# only student is affected because student_copy1 is a new dictionary object"
   ]
  },
  {
   "cell_type": "code",
   "execution_count": 15,
   "id": "1e461657",
   "metadata": {},
   "outputs": [
    {
     "name": "stdout",
     "output_type": "stream",
     "text": [
      "name\n",
      "age\n",
      "last_name\n"
     ]
    }
   ],
   "source": [
    "for keys in student.keys():\n",
    "    print(keys)\n",
    "    "
   ]
  },
  {
   "cell_type": "code",
   "execution_count": 16,
   "id": "7cd4efd5",
   "metadata": {},
   "outputs": [
    {
     "name": "stdout",
     "output_type": "stream",
     "text": [
      "name:Bob\n",
      "age:24\n",
      "last_name:smith\n"
     ]
    }
   ],
   "source": [
    "for key,value in student.items():\n",
    "    print(f\"{key}:{value}\")"
   ]
  },
  {
   "cell_type": "code",
   "execution_count": 17,
   "id": "2cb92474",
   "metadata": {},
   "outputs": [
    {
     "name": "stdout",
     "output_type": "stream",
     "text": [
      "{'student1': {'name': 'John', 'age': 25, 'grade': 24}, 'student2': {'name': 'Jane', 'age': 22, 'grade': 26}, 'student3': {'name': 'Doe', 'age': 23, 'grade': 25}}\n"
     ]
    }
   ],
   "source": [
    "# nested dictionary\n",
    "students={\n",
    "    'student1':{'name':'John','age':25,'grade':24},\n",
    "    'student2':{'name':'Jane','age':22,'grade':26},\n",
    "    'student3':{'name':'Doe','age':23,'grade':25}\n",
    "}\n",
    "print(students)"
   ]
  },
  {
   "cell_type": "code",
   "execution_count": 18,
   "id": "301f4fb3",
   "metadata": {},
   "outputs": [
    {
     "name": "stdout",
     "output_type": "stream",
     "text": [
      "John\n",
      "22\n"
     ]
    }
   ],
   "source": [
    "# access nested dictionary\n",
    "print(students['student1']['name'])\n",
    "print(students.get('student2').get('age'))"
   ]
  },
  {
   "cell_type": "code",
   "execution_count": 19,
   "id": "8aa2d8db",
   "metadata": {},
   "outputs": [
    {
     "data": {
      "text/plain": [
       "dict_items([('student1', {'name': 'John', 'age': 25, 'grade': 24}), ('student2', {'name': 'Jane', 'age': 22, 'grade': 26}), ('student3', {'name': 'Doe', 'age': 23, 'grade': 25})])"
      ]
     },
     "execution_count": 19,
     "metadata": {},
     "output_type": "execute_result"
    }
   ],
   "source": [
    "students.items()"
   ]
  },
  {
   "cell_type": "code",
   "execution_count": 20,
   "id": "8638721b",
   "metadata": {},
   "outputs": [
    {
     "name": "stdout",
     "output_type": "stream",
     "text": [
      "student1:{'name': 'John', 'age': 25, 'grade': 24}\n",
      "name:John\n",
      "age:25\n",
      "grade:24\n",
      "student2:{'name': 'Jane', 'age': 22, 'grade': 26}\n",
      "name:Jane\n",
      "age:22\n",
      "grade:26\n",
      "student3:{'name': 'Doe', 'age': 23, 'grade': 25}\n",
      "name:Doe\n",
      "age:23\n",
      "grade:25\n"
     ]
    }
   ],
   "source": [
    "for student_id, student_info in students.items():\n",
    "    print(f\"{student_id}:{student_info}\")\n",
    "    for key, value in student_info.items():\n",
    "        print(f\"{key}:{value}\")\n"
   ]
  },
  {
   "cell_type": "code",
   "execution_count": 21,
   "id": "422863f6",
   "metadata": {},
   "outputs": [
    {
     "name": "stdout",
     "output_type": "stream",
     "text": [
      "{0: 0, 1: 1, 2: 4, 3: 9, 4: 16}\n"
     ]
    }
   ],
   "source": [
    "# dictionary comprehension\n",
    "squares = {x: x*x for x in range(5)}\n",
    "print(squares) "
   ]
  },
  {
   "cell_type": "code",
   "execution_count": 24,
   "id": "413ee8c1",
   "metadata": {},
   "outputs": [
    {
     "data": {
      "text/plain": [
       "{1: 1, 2: 2, 3: 3, 4: 4}"
      ]
     },
     "execution_count": 24,
     "metadata": {},
     "output_type": "execute_result"
    }
   ],
   "source": [
    "# use a dictionary to count the freuency of elements in a list\n",
    "\n",
    "members = [1,2,2,3,3,3,4,4,4,4]\n",
    "frequency = {}\n",
    "\n",
    "for nums in members:\n",
    "    if nums in frequency.keys():\n",
    "        frequency[nums]+=1\n",
    "    else:\n",
    "        frequency[nums] = 1\n",
    "\n",
    "frequency"
   ]
  },
  {
   "cell_type": "code",
   "execution_count": null,
   "id": "7745104e",
   "metadata": {},
   "outputs": [],
   "source": []
  }
 ],
 "metadata": {
  "kernelspec": {
   "display_name": "aiml",
   "language": "python",
   "name": "python3"
  },
  "language_info": {
   "codemirror_mode": {
    "name": "ipython",
    "version": 3
   },
   "file_extension": ".py",
   "mimetype": "text/x-python",
   "name": "python",
   "nbconvert_exporter": "python",
   "pygments_lexer": "ipython3",
   "version": "3.12.11"
  }
 },
 "nbformat": 4,
 "nbformat_minor": 5
}
