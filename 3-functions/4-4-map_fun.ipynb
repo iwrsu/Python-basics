{
 "cells": [
  {
   "cell_type": "code",
   "execution_count": 1,
   "id": "4b2d4a38",
   "metadata": {},
   "outputs": [
    {
     "data": {
      "text/plain": [
       "[1, 4, 9, 16, 25]"
      ]
     },
     "execution_count": 1,
     "metadata": {},
     "output_type": "execute_result"
    }
   ],
   "source": [
    "def square(x):\n",
    "    return x*x\n",
    "numbers=[1,2,3,4,5]\n",
    "squared_numbers = list(map(square, numbers))\n",
    "squared_numbers"
   ]
  },
  {
   "cell_type": "code",
   "execution_count": 3,
   "id": "5c72cdb7",
   "metadata": {},
   "outputs": [
    {
     "data": {
      "text/plain": [
       "[5, 7, 9]"
      ]
     },
     "execution_count": 3,
     "metadata": {},
     "output_type": "execute_result"
    }
   ],
   "source": [
    "# map multiple iterables\n",
    "\n",
    "num1 = [1,2,3]\n",
    "num2 = [4,5,6]\n",
    "\n",
    "added_nums = list(map(lambda a,b:a+b, num1,num2))\n",
    "added_nums"
   ]
  },
  {
   "cell_type": "code",
   "execution_count": 4,
   "id": "58fcfce4",
   "metadata": {},
   "outputs": [
    {
     "data": {
      "text/plain": [
       "[1, 2, 3, 4]"
      ]
     },
     "execution_count": 4,
     "metadata": {},
     "output_type": "execute_result"
    }
   ],
   "source": [
    "# map to conv list of strings to integers\n",
    "str_nums = [\"1\",\"2\",\"3\",\"4\"]\n",
    "int_nums = list(map(int, str_nums))\n",
    "int_nums"
   ]
  },
  {
   "cell_type": "code",
   "execution_count": 5,
   "id": "921e623d",
   "metadata": {},
   "outputs": [
    {
     "data": {
      "text/plain": [
       "['HELLO', 'WORLD']"
      ]
     },
     "execution_count": 5,
     "metadata": {},
     "output_type": "execute_result"
    }
   ],
   "source": [
    "word = [\"hello\",\"world\"]\n",
    "upper_word = list(map(str.upper, word))\n",
    "upper_word"
   ]
  },
  {
   "cell_type": "code",
   "execution_count": 6,
   "id": "6f34cd80",
   "metadata": {},
   "outputs": [
    {
     "data": {
      "text/plain": [
       "['Alice', 'Bob', 'Charlie']"
      ]
     },
     "execution_count": 6,
     "metadata": {},
     "output_type": "execute_result"
    }
   ],
   "source": [
    "def get_name(person):\n",
    "    return person['name']\n",
    "\n",
    "people = [{'name': 'Alice', 'age': 30}, {'name': 'Bob', 'age': 25}, {'name': 'Charlie', 'age': 35}]\n",
    "list(map(get_name, people))"
   ]
  },
  {
   "cell_type": "code",
   "execution_count": null,
   "id": "f513cc22",
   "metadata": {},
   "outputs": [],
   "source": []
  }
 ],
 "metadata": {
  "kernelspec": {
   "display_name": "aiml",
   "language": "python",
   "name": "python3"
  },
  "language_info": {
   "codemirror_mode": {
    "name": "ipython",
    "version": 3
   },
   "file_extension": ".py",
   "mimetype": "text/x-python",
   "name": "python",
   "nbconvert_exporter": "python",
   "pygments_lexer": "ipython3",
   "version": "3.12.11"
  }
 },
 "nbformat": 4,
 "nbformat_minor": 5
}
