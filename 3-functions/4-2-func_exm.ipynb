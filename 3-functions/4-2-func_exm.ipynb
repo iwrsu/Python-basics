{
 "cells": [
  {
   "cell_type": "code",
   "execution_count": null,
   "id": "5557c27e",
   "metadata": {},
   "outputs": [],
   "source": [
    "def is_strong_pass(password):\n",
    "    if len(password) <8:\n",
    "        return False\n",
    "    if not any(char.isdigit() for char in password):\n",
    "        return False"
   ]
  },
  {
   "cell_type": "code",
   "execution_count": 1,
   "id": "47cc085d",
   "metadata": {},
   "outputs": [
    {
     "data": {
      "text/plain": [
       "13.8"
      ]
     },
     "execution_count": 1,
     "metadata": {},
     "output_type": "execute_result"
    }
   ],
   "source": [
    "# calculate the total cost of shopping\n",
    "\n",
    "def calc_total(cart):\n",
    "    total_Cost = 0;\n",
    "    for item in cart:\n",
    "        total_Cost += item[\"price\"] * item[\"quantity\"]\n",
    "    return total_Cost\n",
    "\n",
    "cart=[\n",
    "    {\"item\":\"apple\", \"price\":1.2, \"quantity\":4},\n",
    "    {\"item\":\"banana\", \"price\":0.5, \"quantity\":10},\n",
    "    {\"item\":\"milk\", \"price\":2.0, \"quantity\":2}\n",
    "]\n",
    "calc_total(cart)"
   ]
  },
  {
   "cell_type": "code",
   "execution_count": 2,
   "id": "40f0bfea",
   "metadata": {},
   "outputs": [
    {
     "data": {
      "text/plain": [
       "True"
      ]
     },
     "execution_count": 2,
     "metadata": {},
     "output_type": "execute_result"
    }
   ],
   "source": [
    "# palindrom\n",
    "\n",
    "def is_pali(s):\n",
    "    s=s.lower().replace(\" \",\"\") # replaces empty space with no space\n",
    "    return s==s[::-1] # reverse string\n",
    "\n",
    "is_pali(\"A man a plan a canal Panama\")"
   ]
  },
  {
   "cell_type": "code",
   "execution_count": 3,
   "id": "f5aab197",
   "metadata": {},
   "outputs": [
    {
     "data": {
      "text/plain": [
       "True"
      ]
     },
     "execution_count": 3,
     "metadata": {},
     "output_type": "execute_result"
    }
   ],
   "source": [
    "# validate email address\n",
    "import re\n",
    "def is_valid_email(email):\n",
    "    pattern = r'^[a-zA-Z0-9._+-]+@[a-zA-Z0-9-]+\\.[a-zA-Z0-9-.]+$'\n",
    "    return re.match(pattern, email) is not None\n",
    "is_valid_email(\"test@example.com\")"
   ]
  },
  {
   "cell_type": "code",
   "execution_count": null,
   "id": "72a223da",
   "metadata": {},
   "outputs": [],
   "source": []
  }
 ],
 "metadata": {
  "kernelspec": {
   "display_name": "aiml",
   "language": "python",
   "name": "python3"
  },
  "language_info": {
   "codemirror_mode": {
    "name": "ipython",
    "version": 3
   },
   "file_extension": ".py",
   "mimetype": "text/x-python",
   "name": "python",
   "nbconvert_exporter": "python",
   "pygments_lexer": "ipython3",
   "version": "3.12.11"
  }
 },
 "nbformat": 4,
 "nbformat_minor": 5
}
