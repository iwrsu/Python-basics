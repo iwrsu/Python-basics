{
 "cells": [
  {
   "cell_type": "code",
   "execution_count": 1,
   "id": "e6fc156b",
   "metadata": {},
   "outputs": [
    {
     "data": {
      "text/plain": [
       "[2, 4]"
      ]
     },
     "execution_count": 1,
     "metadata": {},
     "output_type": "execute_result"
    }
   ],
   "source": [
    "# filter function does filtering of elements from an iterable based on a function that returns True or False\n",
    "def is_even(n):\n",
    "    return n % 2 == 0\n",
    "\n",
    "numbers = [1, 2, 3, 4, 5]\n",
    "even_numbers = list(filter(is_even, numbers))\n",
    "even_numbers"
   ]
  },
  {
   "cell_type": "code",
   "execution_count": null,
   "id": "ad77b40b",
   "metadata": {},
   "outputs": [],
   "source": [
    "# filter with lambda\n",
    "even_numbers_lambda = list(filter(lambda n: n % 2 == 0, numbers))\n",
    "even_numbers_lambda"
   ]
  },
  {
   "cell_type": "code",
   "execution_count": 2,
   "id": "51fe5c90",
   "metadata": {},
   "outputs": [
    {
     "data": {
      "text/plain": [
       "[10, 20, 30, 40]"
      ]
     },
     "execution_count": 2,
     "metadata": {},
     "output_type": "execute_result"
    }
   ],
   "source": [
    "# filter with multiple lambda conditions\n",
    "mixed_numbers = [-10, -5, 0, 5, 10,\n",
    "                    15, 20, 25, 30, 35, 40]\n",
    "positive_even_numbers = list(filter(lambda n: n > 0 and n % 2 == 0, mixed_numbers))\n",
    "positive_even_numbers"
   ]
  },
  {
   "cell_type": "code",
   "execution_count": 4,
   "id": "9ae2c234",
   "metadata": {},
   "outputs": [
    {
     "data": {
      "text/plain": [
       "[{'name': 'Alice', 'age': 30}, {'name': 'Charlie', 'age': 25}]"
      ]
     },
     "execution_count": 4,
     "metadata": {},
     "output_type": "execute_result"
    }
   ],
   "source": [
    "#filter on dictionary\n",
    "def is_adult(person):\n",
    "    return person['age'] >= 18  \n",
    "people = [{'name': 'Alice', 'age': 30}, {'name': 'Bob', 'age': 15}, {'name': 'Charlie', 'age': 25}]\n",
    "adults = list(filter(is_adult, people))\n",
    "adults"
   ]
  },
  {
   "cell_type": "code",
   "execution_count": null,
   "id": "66166c0c",
   "metadata": {},
   "outputs": [],
   "source": []
  }
 ],
 "metadata": {
  "kernelspec": {
   "display_name": "aiml",
   "language": "python",
   "name": "python3"
  },
  "language_info": {
   "codemirror_mode": {
    "name": "ipython",
    "version": 3
   },
   "file_extension": ".py",
   "mimetype": "text/x-python",
   "name": "python",
   "nbconvert_exporter": "python",
   "pygments_lexer": "ipython3",
   "version": "3.12.11"
  }
 },
 "nbformat": 4,
 "nbformat_minor": 5
}
