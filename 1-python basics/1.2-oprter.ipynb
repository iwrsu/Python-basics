{
 "cells": [
  {
   "cell_type": "code",
   "execution_count": null,
   "id": "1b2b6933",
   "metadata": {},
   "outputs": [
    {
     "name": "stdout",
     "output_type": "stream",
     "text": [
      "False\n"
     ]
    }
   ],
   "source": [
    "# bool() if not given any argument returns False\n",
    "# if given an argument, it returns True for any value that is not\n",
    "# considered \"empty\". The following values are considered \"empty\":\n",
    "# - None\n",
    "# - False\n",
    "# - 0 (zero of any numeric type, e.g., 0, 0.0, 0j)\n",
    "# - Empty sequences and collections (e.g., '', (), [], {})\n",
    "# Any other value is considered \"non-empty\" and will return True.\n",
    "is_true = bool()\n",
    "print(is_true)"
   ]
  },
  {
   "cell_type": "code",
   "execution_count": 2,
   "id": "b3de6113",
   "metadata": {},
   "outputs": [
    {
     "data": {
      "text/plain": [
       "False"
      ]
     },
     "execution_count": 2,
     "metadata": {},
     "output_type": "execute_result"
    }
   ],
   "source": [
    "X = True\n",
    "not X"
   ]
  },
  {
   "cell_type": "code",
   "execution_count": null,
   "id": "e366864c",
   "metadata": {},
   "outputs": [],
   "source": []
  }
 ],
 "metadata": {
  "kernelspec": {
   "display_name": "aiml",
   "language": "python",
   "name": "python3"
  },
  "language_info": {
   "codemirror_mode": {
    "name": "ipython",
    "version": 3
   },
   "file_extension": ".py",
   "mimetype": "text/x-python",
   "name": "python",
   "nbconvert_exporter": "python",
   "pygments_lexer": "ipython3",
   "version": "3.12.11"
  }
 },
 "nbformat": 4,
 "nbformat_minor": 5
}
