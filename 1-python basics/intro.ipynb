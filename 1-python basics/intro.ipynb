{
 "cells": [
  {
   "cell_type": "code",
   "execution_count": 1,
   "id": "01647ccb",
   "metadata": {},
   "outputs": [
    {
     "name": "stdout",
     "output_type": "stream",
     "text": [
      "This is a long string that needs to be split over multiple lines for better readability.\n"
     ]
    }
   ],
   "source": [
    "# line continuation use backslash \\ to continue to next line\n",
    "\n",
    "print(\"This is a long string that needs to be split over \\\n",
    "multiple lines for better readability.\")"
   ]
  },
  {
   "cell_type": "code",
   "execution_count": 2,
   "id": "242806e0",
   "metadata": {},
   "outputs": [
    {
     "name": "stdout",
     "output_type": "stream",
     "text": [
      "15\n"
     ]
    }
   ],
   "source": [
    "## multiple statements in one line use semicolon ; to separate statements\n",
    "a = 5; b = 10; c = a + b; print(c)"
   ]
  },
  {
   "cell_type": "code",
   "execution_count": 3,
   "id": "a9b5e9e6",
   "metadata": {},
   "outputs": [
    {
     "name": "stdout",
     "output_type": "stream",
     "text": [
      "<class 'float'>\n",
      "<class 'str'>\n"
     ]
    }
   ],
   "source": [
    "## type inference\n",
    "d = 3.14  # d is inferred as a float\n",
    "print(type(d))  # Output: <class 'float'>\n",
    "d = \"Now I'm a string\"  # d is now a string\n",
    "print(type(d))  # Output: <class 'str'>"
   ]
  },
  {
   "cell_type": "code",
   "execution_count": null,
   "id": "01b2dfb0",
   "metadata": {},
   "outputs": [],
   "source": []
  }
 ],
 "metadata": {
  "kernelspec": {
   "display_name": "aiml",
   "language": "python",
   "name": "python3"
  },
  "language_info": {
   "codemirror_mode": {
    "name": "ipython",
    "version": 3
   },
   "file_extension": ".py",
   "mimetype": "text/x-python",
   "name": "python",
   "nbconvert_exporter": "python",
   "pygments_lexer": "ipython3",
   "version": "3.12.11"
  }
 },
 "nbformat": 4,
 "nbformat_minor": 5
}
