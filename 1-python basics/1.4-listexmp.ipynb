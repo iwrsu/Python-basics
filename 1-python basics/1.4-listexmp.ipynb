{
 "cells": [
  {
   "cell_type": "code",
   "execution_count": 3,
   "id": "4fe4b4df",
   "metadata": {},
   "outputs": [
    {
     "name": "stdout",
     "output_type": "stream",
     "text": [
      "Number of positive feedback: 2\n",
      "Great Service\n",
      "Very Satisfied\n",
      "Excellent Quality\n",
      "Could be better\n",
      "Not satisfied\n",
      "Not happy with the product\n"
     ]
    }
   ],
   "source": [
    "feedback = [\"Great Service\", \"Very Satisfied\", \"Excellent Quality\", \"Could be better\", \"Not satisfied\"]\n",
    "feedback.append(\"Not happy with the product\")\n",
    "\n",
    "positive_feedback_cnt = sum(1 for comment in feedback if \"great\" in comment.lower() or \"excellent\" in comment.lower())\n",
    "print(f\"Number of positive feedback: {positive_feedback_cnt}\")\n",
    "\n",
    "for comment in feedback:\n",
    "    print(comment)"
   ]
  },
  {
   "cell_type": "code",
   "execution_count": null,
   "id": "287538b8",
   "metadata": {},
   "outputs": [],
   "source": []
  }
 ],
 "metadata": {
  "kernelspec": {
   "display_name": "aiml",
   "language": "python",
   "name": "python3"
  },
  "language_info": {
   "codemirror_mode": {
    "name": "ipython",
    "version": 3
   },
   "file_extension": ".py",
   "mimetype": "text/x-python",
   "name": "python",
   "nbconvert_exporter": "python",
   "pygments_lexer": "ipython3",
   "version": "3.12.11"
  }
 },
 "nbformat": 4,
 "nbformat_minor": 5
}
