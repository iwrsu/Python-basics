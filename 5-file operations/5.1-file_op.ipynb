{
 "cells": [
  {
   "cell_type": "code",
   "execution_count": 7,
   "id": "c16d9f10",
   "metadata": {},
   "outputs": [
    {
     "name": "stdout",
     "output_type": "stream",
     "text": [
      "hello world\n",
      "this is a test file\n",
      "\n"
     ]
    }
   ],
   "source": [
    "# read a whole file\n",
    "\n",
    "with open('example.txt' ,'r') as file:\n",
    "    content = file.read()\n",
    "    print(content)"
   ]
  },
  {
   "cell_type": "code",
   "execution_count": 4,
   "id": "f70fcb70",
   "metadata": {},
   "outputs": [
    {
     "name": "stdout",
     "output_type": "stream",
     "text": [
      "Hello how are you\n",
      "\n",
      "i am good\n",
      "\n",
      "okay broski\n"
     ]
    }
   ],
   "source": [
    "with open('example.txt','r') as file:\n",
    "    for line in file:\n",
    "        print(line)"
   ]
  },
  {
   "cell_type": "code",
   "execution_count": 5,
   "id": "63543dd1",
   "metadata": {},
   "outputs": [
    {
     "name": "stdout",
     "output_type": "stream",
     "text": [
      "Hello how are you\n",
      "i am good\n",
      "okay broski\n"
     ]
    }
   ],
   "source": [
    "with open('example.txt','r') as file:\n",
    "    for line in file:\n",
    "        print(line.strip())  # remove trailing newline characters"
   ]
  },
  {
   "cell_type": "code",
   "execution_count": 6,
   "id": "dd5480ac",
   "metadata": {},
   "outputs": [
    {
     "name": "stdout",
     "output_type": "stream",
     "text": [
      "Hello how are you\n",
      "i am good\n",
      "okay broski"
     ]
    }
   ],
   "source": [
    "with open('example.txt','r') as file:\n",
    "    for line in file:\n",
    "        print(line, end='')"
   ]
  },
  {
   "cell_type": "code",
   "execution_count": null,
   "id": "670b068e",
   "metadata": {},
   "outputs": [],
   "source": [
    "# writing a file (overwrite mode)\n",
    "with open('example.txt', 'w') as file:\n",
    "    file.write(\"Hello world!\\n\")\n",
    "    file.write(\"This is a test file.\\n\")\n"
   ]
  },
  {
   "cell_type": "code",
   "execution_count": 8,
   "id": "a9a36a89",
   "metadata": {},
   "outputs": [],
   "source": [
    "with open('example.txt', 'a') as file:\n",
    "    file.write(\"Appending a new line.\\n\")"
   ]
  },
  {
   "cell_type": "code",
   "execution_count": 9,
   "id": "0d70f55d",
   "metadata": {},
   "outputs": [],
   "source": [
    "lines = [\"First line\\n\", \"Second line\\n\", \"Third line\\n\"]\n",
    "with open('example.txt', 'a') as file:\n",
    "    file.writelines(lines)"
   ]
  },
  {
   "cell_type": "code",
   "execution_count": 1,
   "id": "8a506e4d",
   "metadata": {},
   "outputs": [],
   "source": [
    "# binary files\n",
    "\n",
    "data = b'\\x00\\x01\\x02\\x03\\x04\\x05\\x06\\x07\\x08\\x09'\n",
    "with open('ex.bin', 'wb') as file:\n",
    "    file.write(data)"
   ]
  },
  {
   "cell_type": "code",
   "execution_count": 2,
   "id": "1f57ecec",
   "metadata": {},
   "outputs": [
    {
     "name": "stdout",
     "output_type": "stream",
     "text": [
      "b'\\x00\\x01\\x02\\x03\\x04\\x05\\x06\\x07\\x08\\t'\n"
     ]
    }
   ],
   "source": [
    "with open('ex.bin', 'rb') as file:\n",
    "    content = file.read()\n",
    "    print(content)"
   ]
  },
  {
   "cell_type": "code",
   "execution_count": 3,
   "id": "061056f3",
   "metadata": {},
   "outputs": [],
   "source": [
    "# read from source and write to destination\n",
    "with open('example.txt', 'r') as source_file:\n",
    "    content = source_file.read()\n",
    "with open('dest.txt','w') as dest:\n",
    "    dest.write(content)"
   ]
  },
  {
   "cell_type": "code",
   "execution_count": 6,
   "id": "a71ac4e6",
   "metadata": {},
   "outputs": [
    {
     "name": "stdout",
     "output_type": "stream",
     "text": [
      "\n"
     ]
    }
   ],
   "source": [
    "# the w+ mode overwrites the file if it exists or creates a new one if it doesn't\n",
    "with open('example.txt', 'w+') as file:\n",
    "    file.write(\"hello world\\n\")\n",
    "    file.write(\"this is a test file\\n\")\n",
    "    \n",
    "    # file.seek(0)  # move the cursor to the beginning of the file\n",
    "    content = file.read()\n",
    "    print(content)"
   ]
  },
  {
   "cell_type": "code",
   "execution_count": null,
   "id": "3a8b532b",
   "metadata": {},
   "outputs": [],
   "source": []
  }
 ],
 "metadata": {
  "kernelspec": {
   "display_name": "aiml",
   "language": "python",
   "name": "python3"
  },
  "language_info": {
   "codemirror_mode": {
    "name": "ipython",
    "version": 3
   },
   "file_extension": ".py",
   "mimetype": "text/x-python",
   "name": "python",
   "nbconvert_exporter": "python",
   "pygments_lexer": "ipython3",
   "version": "3.12.11"
  }
 },
 "nbformat": 4,
 "nbformat_minor": 5
}
